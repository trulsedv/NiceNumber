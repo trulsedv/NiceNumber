{
 "cells": [
  {
   "cell_type": "code",
   "execution_count": 163,
   "metadata": {},
   "outputs": [],
   "source": [
    "from math import *\n",
    "from numpy import *"
   ]
  },
  {
   "cell_type": "code",
   "execution_count": 164,
   "metadata": {},
   "outputs": [],
   "source": [
    "def NiceNumber(Value):\n",
    "    Exponent = floor(log10(Value))\n",
    "    Fraction = Value / 10 ** Exponent\n",
    "    \n",
    "    NiceNumbers = [1, 1.1, 1.2, 1.3, 1.4, 1.5, 1.6, 1.7, 1.8, 1.9, 2, 2.1, 2.2, 2.3, \n",
    "                   2.4, 2.5, 3, 3.5, 4, 4.5, 5, 5.5, 6, 6.5, 7, 7.5, 8, 8.5, 9, 9.5, 10]\n",
    "    \n",
    "    for num in NiceNumbers:\n",
    "        if Fraction <= num:\n",
    "            NiceFraction = num\n",
    "            break\n",
    "        \n",
    "    return NiceFraction * 10**Exponent\n",
    "\n",
    "def ticks(min, max, basetick, numticks):\n",
    "    AxisStart = Min\n",
    "    AxisEnd = Max\n",
    "\n",
    "    AxisWidth = AxisEnd - AxisStart\n",
    "    RawTick = AxisWidth/(NumTicks - 1)\n",
    "\n",
    "    good = False\n",
    "    while good == False:\n",
    "        NiceTick = NiceNumber(RawTick)\n",
    "        \n",
    "        NewAxisStart = BaseTick - ceil((BaseTick - AxisStart) / NiceTick) * NiceTick\n",
    "        NewAxisEnd = NewAxisStart + NiceTick * (NumTicks - 1)\n",
    "        \n",
    "        if NewAxisEnd < AxisEnd:\n",
    "            RawTick = 1.04 * RawTick\n",
    "        else:\n",
    "            good = True\n",
    "\n",
    "    Ticks = list(linspace(NewAxisStart, NewAxisEnd, NumTicks))\n",
    "\n",
    "    return Ticks"
   ]
  },
  {
   "cell_type": "code",
   "execution_count": 168,
   "metadata": {},
   "outputs": [
    {
     "name": "stdout",
     "output_type": "stream",
     "text": [
      "[14.0, 21.0, 28.0, 35.0, 42.0, 49.0]\n"
     ]
    }
   ],
   "source": [
    "Min = 15\n",
    "Max = 49\n",
    "BaseTick = 0\n",
    "\n",
    "NumTicks = 6\n",
    "\n",
    "Ticks = ticks(Min, Max, BaseTick, NumTicks)\n",
    "print(Ticks)"
   ]
  },
  {
   "cell_type": "code",
   "execution_count": 161,
   "metadata": {},
   "outputs": [
    {
     "name": "stdout",
     "output_type": "stream",
     "text": [
      "[-1.0, 11.0, 23.0, 35.0, 47.0, 59.0]\n"
     ]
    }
   ],
   "source": [
    "AxisStart = Min\n",
    "AxisEnd = Max\n",
    "\n",
    "AxisWidth = AxisEnd - AxisStart\n",
    "RawTick = AxisWidth/(NumTicks - 1)\n",
    "\n",
    "good = False\n",
    "while good == False:\n",
    "    NiceTick = NiceNumber(RawTick)\n",
    "    \n",
    "    NewAxisStart = BaseTick - ceil((BaseTick - AxisStart) / NiceTick) * NiceTick\n",
    "    NewAxisEnd = NewAxisStart + NiceTick * (NumTicks - 1)\n",
    "    \n",
    "    if NewAxisEnd < AxisEnd:\n",
    "        RawTick = 1.04 * RawTick\n",
    "    else:\n",
    "        good = True\n",
    "\n",
    "Ticks = list(linspace(NewAxisStart, NewAxisEnd, NumTicks))\n",
    "\n",
    "print(Ticks)"
   ]
  },
  {
   "cell_type": "code",
   "execution_count": 162,
   "metadata": {
    "scrolled": true
   },
   "outputs": [
    {
     "data": {
      "text/plain": [
       "11.0"
      ]
     },
     "execution_count": 162,
     "metadata": {},
     "output_type": "execute_result"
    }
   ],
   "source": [
    "NiceNumber(10.56)"
   ]
  }
 ],
 "metadata": {
  "kernelspec": {
   "display_name": "Python 3",
   "language": "python",
   "name": "python3"
  },
  "language_info": {
   "codemirror_mode": {
    "name": "ipython",
    "version": 3
   },
   "file_extension": ".py",
   "mimetype": "text/x-python",
   "name": "python",
   "nbconvert_exporter": "python",
   "pygments_lexer": "ipython3",
   "version": "3.7.3"
  }
 },
 "nbformat": 4,
 "nbformat_minor": 2
}
